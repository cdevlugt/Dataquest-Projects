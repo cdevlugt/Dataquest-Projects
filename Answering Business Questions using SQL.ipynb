{
 "cells": [
  {
   "cell_type": "markdown",
   "metadata": {
    "collapsed": true
   },
   "source": [
    "# Import Packages"
   ]
  },
  {
   "cell_type": "code",
   "execution_count": 1,
   "metadata": {
    "collapsed": true
   },
   "outputs": [],
   "source": [
    "import pandas as pd\n",
    "import sqlite3\n",
    "import matplotlib.pyplot as plt\n",
    "import seaborn as sns\n",
    "import numpy as np\n",
    "import datetime as dt\n",
    "\n",
    "%matplotlib inline"
   ]
  },
  {
   "cell_type": "code",
   "execution_count": 2,
   "metadata": {
    "collapsed": true
   },
   "outputs": [],
   "source": [
    "#define SQL and pandas functions to speed up the queries\n",
    "def run_query(query, db = 'chinook.db'):\n",
    "    #takes a query and a database (default db is the one used here)\n",
    "    #returns pd.Dataframe of the query\n",
    "    with sqlite3.connect(db) as conn:\n",
    "        return pd.read_sql(query, conn)\n",
    "\n",
    "def run_command(query, db = 'chinook.db'):\n",
    "    #takes a query and a database (default db is the one used here)\n",
    "    #returns the sqlite3 result of the query\n",
    "    with sqlite3.connect(db) as conn:\n",
    "        conn.isolation_level = None\n",
    "        return conn.execute(query)\n",
    "\n",
    "def show_tables(db = 'chinook.db'):\n",
    "    #takes a database and returns all tables and views\n",
    "    query = '''\n",
    "    SELECT\n",
    "        name,\n",
    "        type\n",
    "    FROM sqlite_master\n",
    "    WHERE type IN (\"table\", \"view\");\n",
    "    '''\n",
    "    return run_query(query, db)"
   ]
  },
  {
   "cell_type": "code",
   "execution_count": 3,
   "metadata": {
    "collapsed": false
   },
   "outputs": [
    {
     "data": {
      "text/html": [
       "<div>\n",
       "<style scoped>\n",
       "    .dataframe tbody tr th:only-of-type {\n",
       "        vertical-align: middle;\n",
       "    }\n",
       "\n",
       "    .dataframe tbody tr th {\n",
       "        vertical-align: top;\n",
       "    }\n",
       "\n",
       "    .dataframe thead th {\n",
       "        text-align: right;\n",
       "    }\n",
       "</style>\n",
       "<table border=\"1\" class=\"dataframe\">\n",
       "  <thead>\n",
       "    <tr style=\"text-align: right;\">\n",
       "      <th></th>\n",
       "      <th>name</th>\n",
       "      <th>type</th>\n",
       "    </tr>\n",
       "  </thead>\n",
       "  <tbody>\n",
       "    <tr>\n",
       "      <th>0</th>\n",
       "      <td>album</td>\n",
       "      <td>table</td>\n",
       "    </tr>\n",
       "    <tr>\n",
       "      <th>1</th>\n",
       "      <td>artist</td>\n",
       "      <td>table</td>\n",
       "    </tr>\n",
       "    <tr>\n",
       "      <th>2</th>\n",
       "      <td>customer</td>\n",
       "      <td>table</td>\n",
       "    </tr>\n",
       "    <tr>\n",
       "      <th>3</th>\n",
       "      <td>employee</td>\n",
       "      <td>table</td>\n",
       "    </tr>\n",
       "    <tr>\n",
       "      <th>4</th>\n",
       "      <td>genre</td>\n",
       "      <td>table</td>\n",
       "    </tr>\n",
       "    <tr>\n",
       "      <th>5</th>\n",
       "      <td>invoice</td>\n",
       "      <td>table</td>\n",
       "    </tr>\n",
       "    <tr>\n",
       "      <th>6</th>\n",
       "      <td>invoice_line</td>\n",
       "      <td>table</td>\n",
       "    </tr>\n",
       "    <tr>\n",
       "      <th>7</th>\n",
       "      <td>media_type</td>\n",
       "      <td>table</td>\n",
       "    </tr>\n",
       "    <tr>\n",
       "      <th>8</th>\n",
       "      <td>playlist</td>\n",
       "      <td>table</td>\n",
       "    </tr>\n",
       "    <tr>\n",
       "      <th>9</th>\n",
       "      <td>playlist_track</td>\n",
       "      <td>table</td>\n",
       "    </tr>\n",
       "    <tr>\n",
       "      <th>10</th>\n",
       "      <td>track</td>\n",
       "      <td>table</td>\n",
       "    </tr>\n",
       "  </tbody>\n",
       "</table>\n",
       "</div>"
      ],
      "text/plain": [
       "              name   type\n",
       "0            album  table\n",
       "1           artist  table\n",
       "2         customer  table\n",
       "3         employee  table\n",
       "4            genre  table\n",
       "5          invoice  table\n",
       "6     invoice_line  table\n",
       "7       media_type  table\n",
       "8         playlist  table\n",
       "9   playlist_track  table\n",
       "10           track  table"
      ]
     },
     "execution_count": 3,
     "metadata": {},
     "output_type": "execute_result"
    }
   ],
   "source": [
    "show_tables()"
   ]
  },
  {
   "cell_type": "markdown",
   "metadata": {},
   "source": [
    "# Determine which genre sells the most in the US\n",
    "\n",
    "    genre is in `name` in `genre`\n",
    "    number of tracks sold is in `quantity` `invoice_line`\n",
    "    these are joined through `track` at `genre_id` and `track_id`"
   ]
  },
  {
   "cell_type": "code",
   "execution_count": 4,
   "metadata": {
    "collapsed": false
   },
   "outputs": [
    {
     "data": {
      "text/plain": [
       "[<matplotlib.text.Text at 0x7f1b58205080>,\n",
       " <matplotlib.text.Text at 0x7f1b561a6ba8>,\n",
       " <matplotlib.text.Text at 0x7f1b56117e48>,\n",
       " <matplotlib.text.Text at 0x7f1b56122940>,\n",
       " <matplotlib.text.Text at 0x7f1b56125470>,\n",
       " <matplotlib.text.Text at 0x7f1b56125f60>,\n",
       " <matplotlib.text.Text at 0x7f1b5612eeb8>,\n",
       " <matplotlib.text.Text at 0x7f1b561250b8>,\n",
       " <matplotlib.text.Text at 0x7f1b561316a0>,\n",
       " <matplotlib.text.Text at 0x7f1b56131f98>,\n",
       " <matplotlib.text.Text at 0x7f1b56135ac8>,\n",
       " <matplotlib.text.Text at 0x7f1b561385f8>,\n",
       " <matplotlib.text.Text at 0x7f1b5613c128>,\n",
       " <matplotlib.text.Text at 0x7f1b5613cc18>,\n",
       " <matplotlib.text.Text at 0x7f1b5613f748>,\n",
       " <matplotlib.text.Text at 0x7f1b56143278>,\n",
       " <matplotlib.text.Text at 0x7f1b56143d68>,\n",
       " <matplotlib.text.Text at 0x7f1b56148898>]"
      ]
     },
     "execution_count": 4,
     "metadata": {},
     "output_type": "execute_result"
    },
    {
     "data": {
      "image/png": "[encoded data removed]",
      "text/plain": [
       "<matplotlib.figure.Figure at 0x7f1b581dc4a8>"
      ]
     },
     "metadata": {},
     "output_type": "display_data"
    }
   ],
   "source": [
    "sales_per_genre_query = \"\"\"\n",
    "WITH\n",
    "    track_quantity AS\n",
    "    (\n",
    "        SELECT\n",
    "            track_id,\n",
    "            SUM(quantity) quanitity\n",
    "        FROM invoice_line\n",
    "        GROUP BY track_id\n",
    "    ), \n",
    "    genre_and_tracks AS\n",
    "    (\n",
    "        SELECT\n",
    "            t.track_id,\n",
    "            g.name genre\n",
    "        FROM genre g\n",
    "        INNER JOIN track t ON t.genre_id = g.genre_id\n",
    "    )\n",
    "    SELECT\n",
    "        gt.genre,\n",
    "        SUM(tq.quanitity) quanitity\n",
    "    FROM genre_and_tracks gt\n",
    "    INNER JOIN track_quantity tq ON tq.track_id = gt.track_id\n",
    "    GROUP BY 1\n",
    "    ORDER BY 1;\n",
    "\"\"\"\n",
    "\n",
    "sales_per_genre = run_query(sales_per_genre_query)\n",
    "ax = sales_per_genre.plot(kind = 'bar', title = 'Sales per Genre')\n",
    "sns.set_style('white')\n",
    "ax.set_xticklabels(sales_per_genre['genre'].tolist())"
   ]
  },
  {
   "cell_type": "markdown",
   "metadata": {},
   "source": [
    "# Determine which 3 bands to add to the library based on sales\n",
    "\n",
    "| Artist Name | Genre |\n",
    "|:---:|:---:|\n",
    "| Regal | Hip-Hop |\n",
    "| Red Tone | Punk | \n",
    "|Meteor and the Girls | Pop |\n",
    "| Slim Jim Bites | Blues |"
   ]
  },
  {
   "cell_type": "code",
   "execution_count": 5,
   "metadata": {
    "collapsed": false
   },
   "outputs": [
    {
     "data": {
      "text/plain": [
       "[<matplotlib.text.Text at 0x7f1b560ad630>,\n",
       " <matplotlib.text.Text at 0x7f1b560c36d8>,\n",
       " <matplotlib.text.Text at 0x7f1b5607d208>,\n",
       " <matplotlib.text.Text at 0x7f1b5607dc88>]"
      ]
     },
     "execution_count": 5,
     "metadata": {},
     "output_type": "execute_result"
    },
    {
     "data": {
      "image/png": "[encoded data removed]",
      "text/plain": [
       "<matplotlib.figure.Figure at 0x7f1b5613f390>"
      ]
     },
     "metadata": {},
     "output_type": "display_data"
    }
   ],
   "source": [
    "#delimited plot\n",
    "genres = [\"Alternative & Punk\", \"Blues\", \"Hip Hop/Rap\", \"Pop\"]\n",
    "\n",
    "ax = sales_per_genre.loc[sales_per_genre['genre'].isin(genres),].plot(kind = 'bar', title = 'Sales per Genre')\n",
    "sns.set_style('white')\n",
    "ax.set_xticklabels(sales_per_genre.loc[sales_per_genre['genre'].isin(genres),'genre'].tolist())"
   ]
  },
  {
   "cell_type": "markdown",
   "metadata": {},
   "source": [
    "The bands selected sould be:\n",
    "\n",
    "| Artist Name | Genre |\n",
    "|:---:|:---:|\n",
    "| Red Tone | Punk | \n",
    "|Meteor and the Girls | Pop |\n",
    "| Slim Jim Bites | Blues |\n",
    "\n",
    "These genres had the highest downloads of the four "
   ]
  },
  {
   "cell_type": "markdown",
   "metadata": {},
   "source": [
    "# Determine sales per employee\n"
   ]
  },
  {
   "cell_type": "code",
   "execution_count": 6,
   "metadata": {
    "collapsed": false
   },
   "outputs": [
    {
     "data": {
      "image/png": "[encoded data removed]",
      "text/plain": [
       "<matplotlib.figure.Figure at 0x7f1b56087be0>"
      ]
     },
     "metadata": {},
     "output_type": "display_data"
    }
   ],
   "source": [
    "sales_rep_sales_query = \"\"\"\n",
    "WITH\n",
    "    sales_per_customer AS\n",
    "        (\n",
    "            SELECT\n",
    "                SUM(i.total) total,\n",
    "                c.support_rep_id,\n",
    "                MAX(i.invoice_date) last_sale\n",
    "            FROM customer c\n",
    "            INNER JOIN invoice i ON i.customer_id = c.customer_id\n",
    "            GROUP BY support_rep_id\n",
    "        )\n",
    "SELECT\n",
    "    (e.first_name || \" \" || e.last_name) employee_name,\n",
    "    s.total,\n",
    "    e.hire_date,\n",
    "    s.last_sale,\n",
    "    e.country,\n",
    "    e.title\n",
    "FROM employee e\n",
    "INNER JOIN sales_per_customer s ON s.support_rep_id = e.employee_id\n",
    "\"\"\"\n",
    "\n",
    "\n",
    "sales_rep_sales = run_query(sales_rep_sales_query)\n",
    "\n",
    "ax = sales_rep_sales.plot(kind = 'bar', x='employee_name', y='total')\n",
    "ax.set_xticklabels(sales_rep_sales['employee_name'].tolist())\n",
    "sns.set_style('white')"
   ]
  },
  {
   "cell_type": "code",
   "execution_count": 7,
   "metadata": {
    "collapsed": false
   },
   "outputs": [
    {
     "data": {
      "image/png": "[encoded data removed]",
      "text/plain": [
       "<matplotlib.figure.Figure at 0x7f1b55ff0198>"
      ]
     },
     "metadata": {},
     "output_type": "display_data"
    }
   ],
   "source": [
    "#since the time working may bias these numbers\n",
    "#we have to control for days between the hire date and the last sale (overall)\n",
    "sales_rep_sales['days_working'] = max(pd.to_datetime(sales_rep_sales['last_sale'])) - pd.to_datetime(sales_rep_sales['hire_date'])\n",
    "\n",
    "sales_rep_sales['sales_per_day'] = sales_rep_sales['total'] / (sales_rep_sales['days_working'].dt.total_seconds() / (24*60*60))\n",
    "ax = sales_rep_sales.plot(kind='bar', x = 'employee_name', y='sales_per_day')\n",
    "\n",
    "ax.set_xticklabels(sales_rep_sales['employee_name'].tolist())\n",
    "sns.set_style('white')"
   ]
  },
  {
   "cell_type": "markdown",
   "metadata": {},
   "source": [
    "Employee with the most sales is Jane Peacook both over time and in total"
   ]
  },
  {
   "cell_type": "markdown",
   "metadata": {},
   "source": [
    "# Purchases per country"
   ]
  },
  {
   "cell_type": "code",
   "execution_count": 8,
   "metadata": {
    "collapsed": false
   },
   "outputs": [],
   "source": [
    "purchases_per_country_query = \"\"\"\n",
    "WITH\n",
    "customer_values AS \n",
    "    (\n",
    "        SELECT\n",
    "             c.customer_id,\n",
    "             SUM(i.total) total_sales,\n",
    "             COUNT(i.customer_id) sales_per_customer,\n",
    "             c.country\n",
    "        FROM invoice i\n",
    "        INNER JOIN customer c ON c.customer_id = i.customer_id\n",
    "        GROUP BY c.customer_id\n",
    "    ),\n",
    "other_countries AS\n",
    "    (\n",
    "        SELECT\n",
    "            country,\n",
    "            COUNT(*) customers,\n",
    "            \"Other\" country_group\n",
    "        FROM customer\n",
    "        GROUP BY country\n",
    "        HAVING customers <= 1\n",
    "    ),\n",
    "country_values AS\n",
    "    (\n",
    "        SELECT\n",
    "            cv.country,\n",
    "            COUNT(cv.customer_id) total_customers,\n",
    "            SUM(cv.total_sales) sales_value,\n",
    "            AVG(cv.total_sales) average_sales_per_customer,\n",
    "            SUM(cv.total_sales) / SUM(cv.sales_per_customer) Average_order_value\n",
    "        FROM customer_values cv\n",
    "        GROUP BY cv.country\n",
    "        HAVING total_customers > 1\n",
    "        ORDER BY total_customers DESC\n",
    "    ),\n",
    "other_values AS\n",
    "    (\n",
    "        SELECT\n",
    "            oc.country_group country,\n",
    "            COUNT(cv.customer_id) total_customers,\n",
    "            SUM(cv.total_sales) sales_value,\n",
    "            AVG(cv.total_sales) average_sales_per_customer,\n",
    "            SUM(cv.total_sales) / SUM(cv.sales_per_customer) Average_order_value\n",
    "        FROM other_countries oc\n",
    "        LEFT JOIN customer_values cv ON oc.country = cv.country\n",
    "        GROUP BY 1\n",
    "        HAVING total_customers > 1\n",
    "        ORDER BY total_customers DESC\n",
    "    )\n",
    "SELECT cv.* FROM country_values cv\n",
    "UNION ALL\n",
    "SELECT ov.* FROM other_values ov\n",
    "    \n",
    "\"\"\"\n",
    "\n",
    "purchases_per_country = run_query(purchases_per_country_query)"
   ]
  },
  {
   "cell_type": "code",
   "execution_count": 9,
   "metadata": {
    "collapsed": false
   },
   "outputs": [
    {
     "data": {
      "image/png": "[encoded data removed]",
      "text/plain": [
       "<matplotlib.figure.Figure at 0x7f1b55faa5c0>"
      ]
     },
     "metadata": {},
     "output_type": "display_data"
    }
   ],
   "source": [
    "(purchases_per_country.loc[purchases_per_country[\"country\"]!=\"Other\"]\n",
    " .plot(kind='bar',\n",
    "       x='country',\n",
    "       subplots = True,\n",
    "       figsize=(8,8),\n",
    "       layout = (2,2),\n",
    "       legend = False\n",
    "      )\n",
    ")\n",
    "sns.set_style('white')"
   ]
  },
  {
   "cell_type": "markdown",
   "metadata": {
    "collapsed": true
   },
   "source": [
    "Interpretations: \n",
    "\n",
    "    most customers and sales are in the US\n",
    "    Czech Republic has high sales per customers, though low total sales\n",
    "    the remaining countries are similar\n",
    "    Portugal is the worst\n",
    "    "
   ]
  },
  {
   "cell_type": "markdown",
   "metadata": {},
   "source": [
    "# Should the Chinook store buy full albumns or popular tracks only"
   ]
  },
  {
   "cell_type": "code",
   "execution_count": 63,
   "metadata": {
    "collapsed": false,
    "scrolled": true
   },
   "outputs": [
    {
     "data": {
      "text/html": [
       "<div>\n",
       "<style scoped>\n",
       "    .dataframe tbody tr th:only-of-type {\n",
       "        vertical-align: middle;\n",
       "    }\n",
       "\n",
       "    .dataframe tbody tr th {\n",
       "        vertical-align: top;\n",
       "    }\n",
       "\n",
       "    .dataframe thead th {\n",
       "        text-align: right;\n",
       "    }\n",
       "</style>\n",
       "<table border=\"1\" class=\"dataframe\">\n",
       "  <thead>\n",
       "    <tr style=\"text-align: right;\">\n",
       "      <th></th>\n",
       "      <th>invoices</th>\n",
       "      <th>invoice_percentage</th>\n",
       "      <th>purchased_tracks</th>\n",
       "      <th>track_percentage</th>\n",
       "    </tr>\n",
       "  </thead>\n",
       "  <tbody>\n",
       "    <tr>\n",
       "      <th>0</th>\n",
       "      <td>200</td>\n",
       "      <td>7.870917</td>\n",
       "      <td>1562</td>\n",
       "      <td>37.014218</td>\n",
       "    </tr>\n",
       "    <tr>\n",
       "      <th>1</th>\n",
       "      <td>2341</td>\n",
       "      <td>92.129083</td>\n",
       "      <td>2658</td>\n",
       "      <td>62.985782</td>\n",
       "    </tr>\n",
       "  </tbody>\n",
       "</table>\n",
       "</div>"
      ],
      "text/plain": [
       "   invoices  invoice_percentage  purchased_tracks  track_percentage\n",
       "0       200            7.870917              1562         37.014218\n",
       "1      2341           92.129083              2658         62.985782"
      ]
     },
     "execution_count": 63,
     "metadata": {},
     "output_type": "execute_result"
    }
   ],
   "source": [
    "\n",
    "q = \"\"\"\n",
    "WITH\n",
    "total_tracks AS\n",
    "    (\n",
    "        SELECT t.album_id, COUNT(t.track_id) tracks\n",
    "        FROM track t\n",
    "        GROUP BY t.album_id\n",
    "        ORDER BY t.album_id\n",
    "    ),\n",
    "tracks_per_invoice AS\n",
    "    (\n",
    "        SELECT\n",
    "            il.invoice_id,\n",
    "            COUNT(t.track_id) tracks,\n",
    "            t.album_id\n",
    "        FROM invoice_line il\n",
    "        INNER JOIN track t ON t.track_id = il.track_id\n",
    "        GROUP BY il.invoice_id, t.album_id\n",
    "    ),\n",
    "full_album AS\n",
    "    (\n",
    "        SELECT ti.invoice_id, ti.tracks purchased_tracks, tt.tracks, \"albumn\" purchase_type\n",
    "        FROM total_tracks tt\n",
    "        INNER JOIN tracks_per_invoice ti ON ti.album_id = tt.album_id\n",
    "        WHERE tt.tracks=ti.tracks\n",
    "        ORDER BY ti.invoice_id\n",
    "    ),\n",
    "tracks_only AS\n",
    "    (\n",
    "        SELECT ti.invoice_id, ti.tracks purchased_tracks, tt.tracks, \"partial\" purchase_type\n",
    "        FROM total_tracks tt\n",
    "        INNER JOIN tracks_per_invoice ti ON ti.album_id = tt.album_id\n",
    "        WHERE tt.tracks!=ti.tracks\n",
    "        ORDER BY ti.invoice_id\n",
    "    ),\n",
    "joined_tables AS\n",
    "    (\n",
    "        SELECT * FROM full_album\n",
    "        UNION\n",
    "        SELECT * FROM tracks_only\n",
    "    )\n",
    "SELECT\n",
    "    COUNT(invoice_id) invoices,\n",
    "    CAST(COUNT(invoice_id) as float) / CAST((SELECT COUNT(*) FROM joined_tables) as float) * 100 invoice_percentage,\n",
    "    SUM(purchased_tracks) purchased_tracks,\n",
    "    CAST(SUM(purchased_tracks) as float) / CAST((SELECT SUM(purchased_tracks) FROM joined_tables) as float) * 100 track_percentage\n",
    "FROM joined_tables\n",
    "GROUP BY purchase_type\n",
    ";\n",
    "\"\"\"\n",
    "\n",
    "run_query(q)"
   ]
  }
 ],
 "metadata": {
  "kernelspec": {
   "display_name": "Python 3",
   "language": "python",
   "name": "python3"
  },
  "language_info": {
   "codemirror_mode": {
    "name": "ipython",
    "version": 3
   },
   "file_extension": ".py",
   "mimetype": "text/x-python",
   "name": "python",
   "nbconvert_exporter": "python",
   "pygments_lexer": "ipython3",
   "version": "3.4.3"
  }
 },
 "nbformat": 4,
 "nbformat_minor": 2
}
