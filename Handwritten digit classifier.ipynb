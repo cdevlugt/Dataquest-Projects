{
 "cells": [
  {
   "cell_type": "markdown",
   "metadata": {
    "collapsed": true
   },
   "source": [
    "# Hand written digits classifier\n",
    "\n",
    "uses the sklearn handwritten digits set, and trains a neural network to classify these digits."
   ]
  },
  {
   "cell_type": "code",
   "execution_count": 1,
   "metadata": {},
   "outputs": [],
   "source": [
    "# Import packages\n",
    "from sklearn.datasets import load_digits\n",
    "import pandas as pd\n",
    "import numpy as np\n",
    "import matplotlib.pyplot as plt\n",
    "import seaborn as sns\n",
    "from sklearn.neighbors import KNeighborsClassifier\n",
    "from sklearn.model_selection import cross_val_score, KFold\n",
    "from sklearn.neural_network import MLPClassifier\n",
    "%matplotlib inline"
   ]
  },
  {
   "cell_type": "code",
   "execution_count": 2,
   "metadata": {},
   "outputs": [],
   "source": [
    "digits = load_digits()\n",
    "images = pd.DataFrame(digits.data)\n",
    "numbers = pd.Series(digits.target)"
   ]
  },
  {
   "cell_type": "code",
   "execution_count": 3,
   "metadata": {},
   "outputs": [
    {
     "data": {
      "image/png": "[encoded data removed]",
      "text/plain": [
       "<Figure size 576x288 with 8 Axes>"
      ]
     },
     "metadata": {
      "needs_background": "light"
     },
     "output_type": "display_data"
    }
   ],
   "source": [
    "def generate_image(image):\n",
    "    image = image.values.reshape(8,8)\n",
    "    return col.imshow(image, cmap='gray_r')\n",
    "\n",
    "fig, ax = plt.subplots(nrows = 2, ncols = 4, figsize=(8,4))\n",
    "\n",
    "selection = [0, 100, 200, 300, 1000, 1100, 1200, 1300]\n",
    "x = 0\n",
    "\n",
    "for row in ax:\n",
    "    for col in row:\n",
    "        generate_image(images.iloc[selection[x]])\n",
    "        x+=1\n",
    "\n"
   ]
  },
  {
   "cell_type": "markdown",
   "metadata": {},
   "source": [
    "# KNN Digit Classifier"
   ]
  },
  {
   "cell_type": "code",
   "execution_count": 4,
   "metadata": {},
   "outputs": [],
   "source": [
    "def k_fold_cross_validation_accuracy(features, labels, k):\n",
    "    knn = KNeighborsClassifier()\n",
    "    kf = KFold(n_splits=4, shuffle=True)\n",
    "    accuracy = cross_val_score(knn, features, labels, scoring='accuracy', cv=kf)\n",
    "    return np.mean(accuracy)"
   ]
  },
  {
   "cell_type": "code",
   "execution_count": 5,
   "metadata": {},
   "outputs": [],
   "source": [
    "ks = [1,2,3,4,5,8,10,15,20]\n",
    "knn_accuracies = []\n",
    "\n",
    "#compute accuracy\n",
    "for k in ks:\n",
    "    accuracy = k_fold_cross_validation_accuracy(images, numbers, k)\n",
    "    knn_accuracies.append(accuracy)"
   ]
  },
  {
   "cell_type": "code",
   "execution_count": 6,
   "metadata": {},
   "outputs": [
    {
     "data": {
      "text/plain": [
       "<matplotlib.collections.PathCollection at 0x1857ef3d320>"
      ]
     },
     "execution_count": 6,
     "metadata": {},
     "output_type": "execute_result"
    },
    {
     "data": {
      "image/png": "[encoded data removed]",
      "text/plain": [
       "<Figure size 432x288 with 1 Axes>"
      ]
     },
     "metadata": {
      "needs_background": "light"
     },
     "output_type": "display_data"
    }
   ],
   "source": [
    "#plot accuracy\n",
    "plt.scatter(x = ks, y=knn_accuracies)"
   ]
  },
  {
   "cell_type": "markdown",
   "metadata": {},
   "source": [
    "# Neural Network"
   ]
  },
  {
   "cell_type": "code",
   "execution_count": 7,
   "metadata": {},
   "outputs": [],
   "source": [
    "def neural_network_cross_validation_accuracy(features, labels, neuron, layer=0):\n",
    "    if layer == 0:\n",
    "        nn = MLPClassifier(hidden_layer_sizes=(neuron,), activation='relu', max_iter=1000)\n",
    "    else:\n",
    "        nn = MLPClassifier(hidden_layer_sizes=(neuron,neuron), activation='relu', max_iter=1000)\n",
    "    kf = KFold(n_splits=4, shuffle=True)\n",
    "    accuracy = cross_val_score(nn, features, labels, scoring='accuracy', cv=kf)\n",
    "    return np.mean(accuracy)"
   ]
  },
  {
   "cell_type": "code",
   "execution_count": 8,
   "metadata": {},
   "outputs": [],
   "source": [
    "neurons = [8,16,32,64,128,256]\n",
    "nn_accuracies = []\n",
    "\n",
    "#compute accuracy\n",
    "for n in neurons:\n",
    "    accuracy = neural_network_cross_validation_accuracy(images, numbers, n, 0)\n",
    "    nn_accuracies.append(accuracy)"
   ]
  },
  {
   "cell_type": "code",
   "execution_count": 9,
   "metadata": {},
   "outputs": [
    {
     "data": {
      "text/plain": [
       "<matplotlib.collections.PathCollection at 0x1857f24a748>"
      ]
     },
     "execution_count": 9,
     "metadata": {},
     "output_type": "execute_result"
    },
    {
     "data": {
      "image/png": "[encoded data removed]",
      "text/plain": [
       "<Figure size 432x288 with 1 Axes>"
      ]
     },
     "metadata": {
      "needs_background": "light"
     },
     "output_type": "display_data"
    }
   ],
   "source": [
    "#plot accuracy\n",
    "plt.scatter(x = neurons, y=nn_accuracies)"
   ]
  },
  {
   "cell_type": "code",
   "execution_count": 10,
   "metadata": {},
   "outputs": [
    {
     "name": "stdout",
     "output_type": "stream",
     "text": [
      "0.9738418708240534\n"
     ]
    }
   ],
   "source": [
    "n64_accuracy = neural_network_cross_validation_accuracy(images, numbers, 64, 2)\n",
    "print(n64_accuracy)"
   ]
  }
 ],
 "metadata": {
  "anaconda-cloud": {},
  "kernelspec": {
   "display_name": "Python 3",
   "language": "python",
   "name": "python3"
  },
  "language_info": {
   "codemirror_mode": {
    "name": "ipython",
    "version": 3
   },
   "file_extension": ".py",
   "mimetype": "text/x-python",
   "name": "python",
   "nbconvert_exporter": "python",
   "pygments_lexer": "ipython3",
   "version": "3.7.3"
  }
 },
 "nbformat": 4,
 "nbformat_minor": 2
}
